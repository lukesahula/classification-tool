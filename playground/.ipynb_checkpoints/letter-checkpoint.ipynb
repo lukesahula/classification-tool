{
 "cells": [
  {
   "cell_type": "code",
   "execution_count": null,
   "metadata": {
    "collapsed": true
   },
   "outputs": [],
   "source": [
    "import pandas as pd\n",
    "\n",
    "from sklearn import datasets\n",
    "from sklearn.ensemble import RandomForestClassifier as RFC\n",
    "from sklearn.ensemble import ExtraTreesClassifier as ETC\n",
    "\n",
    "from bokeh.plotting import figure, show\n",
    "from bokeh.io import output_notebook"
   ]
  },
  {
   "cell_type": "code",
   "execution_count": null,
   "metadata": {
    "collapsed": true
   },
   "outputs": [],
   "source": [
    "def load_dataset_from_files(training, testing):\n",
    "    training_data = datasets.load_svmlight_file(training)\n",
    "    testing_data = datasets.load_svmlight_file(testing)\n",
    "    X_train, y_train = training_data[0], training_data[1]\n",
    "    X_test, y_test = testing_data[0], testing_data[1]\n",
    "    return {\n",
    "        'X_train': training_data[0],\n",
    "        'y_train': training_data[1],\n",
    "        'X_test': testing_data[0],\n",
    "        'y_test': testing_data[1]\n",
    "    }\n",
    "\n",
    "datasets = load_dataset_from_files('datasets/letter.scale.tr', 'datasets/letter.scale.t')"
   ]
  },
  {
   "cell_type": "code",
   "execution_count": null,
   "metadata": {
    "collapsed": true
   },
   "outputs": [],
   "source": [
    "forest = RFC(n_estimators=100, criterion=\"entropy\", n_jobs=-1)\n",
    "trees = ETC(n_estimators=100, criterion=\"entropy\", n_jobs=-1)"
   ]
  },
  {
   "cell_type": "code",
   "execution_count": null,
   "metadata": {
    "collapsed": true
   },
   "outputs": [],
   "source": [
    "train_sizes = [1000, 2000, 3000, 4000, 5000, 6000, 7000, 8000, 9000, 10500]"
   ]
  },
  {
   "cell_type": "code",
   "execution_count": null,
   "metadata": {},
   "outputs": [],
   "source": [
    "X_train_cases = []\n",
    "y_train_cases = []\n",
    "for size in train_sizes:\n",
    "    X_train_cases.append(datasets['X_train'][:size])\n",
    "    y_train_cases.append(datasets['y_train'][:size])"
   ]
  },
  {
   "cell_type": "code",
   "execution_count": null,
   "metadata": {
    "collapsed": true
   },
   "outputs": [],
   "source": [
    "accuracies_forest = []\n",
    "accuracies_trees = []\n",
    "avg_nodes_count_forest = []\n",
    "avg_nodes_count_trees = []"
   ]
  },
  {
   "cell_type": "code",
   "execution_count": null,
   "metadata": {
    "collapsed": true
   },
   "outputs": [],
   "source": [
    "def count_avg_nodes(classifier):\n",
    "    for estimator in classifier.estimators_:\n",
    "        i = 0\n",
    "        nodes_total = 0\n",
    "        nodes_total += estimator.tree_.node_count\n",
    "        i += 1\n",
    "    return nodes_total/i"
   ]
  },
  {
   "cell_type": "code",
   "execution_count": null,
   "metadata": {
    "collapsed": true
   },
   "outputs": [],
   "source": [
    "for X, y in zip(X_train_cases, y_train_cases):\n",
    "    forest.fit(X, y)\n",
    "    trees.fit(X, y)\n",
    "    accuracies_forest.append(forest.score(X_test, y_test))\n",
    "    accuracies_trees.append(trees.score(X_test, y_test))\n",
    "    avg_nodes_count_forest.append(count_avg_nodes(forest))\n",
    "    avg_nodes_count_trees.append(count_avg_nodes(trees))"
   ]
  },
  {
   "cell_type": "code",
   "execution_count": null,
   "metadata": {},
   "outputs": [],
   "source": [
    "output_notebook()"
   ]
  },
  {
   "cell_type": "code",
   "execution_count": null,
   "metadata": {},
   "outputs": [],
   "source": [
    "p = figure(title=\"Letter dataset\", x_axis_label=\"Train size\", y_axis_label=\"Accuracy\")\n",
    "p.line(train_sizes, accuracies_forest, legend=\"Random Forest\", line_width=2, color=\"blue\")\n",
    "p.line(train_sizes, accuracies_trees, legend=\"Extremely Randomized Trees\", line_width=2, color=\"red\")\n",
    "show(p)"
   ]
  },
  {
   "cell_type": "code",
   "execution_count": null,
   "metadata": {},
   "outputs": [],
   "source": [
    "q = figure(title=\"Letter dataset\", x_axis_label=\"Train size\", y_axis_label=\"Average # of nodes\")\n",
    "q.line(train_sizes, avg_nodes_count_forest, legend=\"Random Forest\", line_width=2, color=\"blue\")\n",
    "q.line(train_sizes, avg_nodes_count_trees, legend=\"Extremely Randomized Trees\", line_width=2, color=\"red\")\n",
    "show(q)"
   ]
  }
 ],
 "metadata": {
  "kernelspec": {
   "display_name": "Python 3",
   "language": "python",
   "name": "python3"
  },
  "language_info": {
   "codemirror_mode": {
    "name": "ipython",
    "version": 3
   },
   "file_extension": ".py",
   "mimetype": "text/x-python",
   "name": "python",
   "nbconvert_exporter": "python",
   "pygments_lexer": "ipython3",
   "version": "3.6.1"
  }
 },
 "nbformat": 4,
 "nbformat_minor": 2
}
