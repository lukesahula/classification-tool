{
 "cells": [
  {
   "cell_type": "code",
   "execution_count": 1,
   "metadata": {
    "collapsed": true
   },
   "outputs": [],
   "source": [
    "%matplotlib inline\n",
    "from sklearn.ensemble import RandomForestClassifier as RFC\n",
    "from sklearn.datasets import load_iris\n",
    "\n",
    "import numpy as np\n",
    "import pandas as pd\n",
    "import matplotlib.pyplot as plt\n",
    "\n",
    "from bokeh.plotting import figure, show\n",
    "from bokeh.io import output_notebook"
   ]
  },
  {
   "cell_type": "markdown",
   "metadata": {},
   "source": [
    "# START OF EXAMPLE 1"
   ]
  },
  {
   "cell_type": "code",
   "execution_count": 3,
   "metadata": {
    "collapsed": true
   },
   "outputs": [],
   "source": [
    "iris = load_iris()\n",
    "df = pd.DataFrame(iris.data, columns=iris.feature_names)"
   ]
  },
  {
   "cell_type": "code",
   "execution_count": 4,
   "metadata": {
    "collapsed": true
   },
   "outputs": [],
   "source": [
    "df['is_train'] = np.random.uniform(0, 1, len(df)) <= .75"
   ]
  },
  {
   "cell_type": "code",
   "execution_count": 5,
   "metadata": {
    "collapsed": true
   },
   "outputs": [],
   "source": [
    "df['species'] = pd.Categorical.from_codes(iris.target, iris.target_names)"
   ]
  },
  {
   "cell_type": "code",
   "execution_count": 6,
   "metadata": {
    "collapsed": true
   },
   "outputs": [],
   "source": [
    "train, test = df[df['is_train'] == True], df[df['is_train'] == False]\n",
    "features = df.columns[0:4]"
   ]
  },
  {
   "cell_type": "code",
   "execution_count": 7,
   "metadata": {
    "collapsed": true
   },
   "outputs": [],
   "source": [
    "forest = RFC(n_jobs=2, n_estimators=50)"
   ]
  },
  {
   "cell_type": "code",
   "execution_count": 8,
   "metadata": {
    "collapsed": true
   },
   "outputs": [],
   "source": [
    "y, _ = pd.factorize(train['species'])"
   ]
  },
  {
   "cell_type": "code",
   "execution_count": 9,
   "metadata": {},
   "outputs": [
    {
     "data": {
      "text/html": [
       "<div>\n",
       "<style>\n",
       "    .dataframe thead tr:only-child th {\n",
       "        text-align: right;\n",
       "    }\n",
       "\n",
       "    .dataframe thead th {\n",
       "        text-align: left;\n",
       "    }\n",
       "\n",
       "    .dataframe tbody tr th {\n",
       "        vertical-align: top;\n",
       "    }\n",
       "</style>\n",
       "<table border=\"1\" class=\"dataframe\">\n",
       "  <thead>\n",
       "    <tr style=\"text-align: right;\">\n",
       "      <th>preds</th>\n",
       "      <th>setosa</th>\n",
       "      <th>versicolor</th>\n",
       "      <th>virginica</th>\n",
       "    </tr>\n",
       "    <tr>\n",
       "      <th>actual</th>\n",
       "      <th></th>\n",
       "      <th></th>\n",
       "      <th></th>\n",
       "    </tr>\n",
       "  </thead>\n",
       "  <tbody>\n",
       "    <tr>\n",
       "      <th>setosa</th>\n",
       "      <td>15</td>\n",
       "      <td>0</td>\n",
       "      <td>0</td>\n",
       "    </tr>\n",
       "    <tr>\n",
       "      <th>versicolor</th>\n",
       "      <td>0</td>\n",
       "      <td>12</td>\n",
       "      <td>0</td>\n",
       "    </tr>\n",
       "    <tr>\n",
       "      <th>virginica</th>\n",
       "      <td>0</td>\n",
       "      <td>2</td>\n",
       "      <td>6</td>\n",
       "    </tr>\n",
       "  </tbody>\n",
       "</table>\n",
       "</div>"
      ],
      "text/plain": [
       "preds       setosa  versicolor  virginica\n",
       "actual                                   \n",
       "setosa          15           0          0\n",
       "versicolor       0          12          0\n",
       "virginica        0           2          6"
      ]
     },
     "execution_count": 9,
     "metadata": {},
     "output_type": "execute_result"
    }
   ],
   "source": [
    "forest.fit(train[features], y)\n",
    "preds = iris.target_names[forest.predict(test[features])]\n",
    "pd.crosstab(index=test['species'], columns=preds, rownames=['actual'], colnames=['preds'])"
   ]
  },
  {
   "cell_type": "code",
   "execution_count": 10,
   "metadata": {
    "collapsed": true
   },
   "outputs": [],
   "source": [
    "importances = forest.feature_importances_\n",
    "indices = np.argsort(importances)"
   ]
  },
  {
   "cell_type": "code",
   "execution_count": 11,
   "metadata": {},
   "outputs": [
    {
     "data": {
      "text/plain": [
       "<matplotlib.text.Text at 0x7f182351a9e8>"
      ]
     },
     "execution_count": 11,
     "metadata": {},
     "output_type": "execute_result"
    },
    {
     "data": {
      "image/png": "[encoded data removed]",
      "text/plain": [
       "<matplotlib.figure.Figure at 0x7f1823595da0>"
      ]
     },
     "metadata": {},
     "output_type": "display_data"
    }
   ],
   "source": [
    "plt.figure(1)\n",
    "plt.title('Feature Importances')\n",
    "plt.barh(range(len(indices)), importances[indices], color='b', align='center')\n",
    "plt.yticks(range(len(indices)), features[indices])\n",
    "plt.xlabel('Relative Importance')"
   ]
  },
  {
   "cell_type": "code",
   "execution_count": 12,
   "metadata": {},
   "outputs": [
    {
     "data": {
      "text/html": [
       "\n",
       "    <div class=\"bk-root\">\n",
       "        <a href=\"http://bokeh.pydata.org\" target=\"_blank\" class=\"bk-logo bk-logo-small bk-logo-notebook\"></a>\n",
       "        <span id=\"1d91b5e4-5c78-4256-99c3-a1d627608c89\">Loading BokehJS ...</span>\n",
       "    </div>"
      ]
     },
     "metadata": {},
     "output_type": "display_data"
    },
    {
     "data": {
      "application/javascript": [
       "\n",
       "(function(global) {\n",
       "  function now() {\n",
       "    return new Date();\n",
       "  }\n",
       "\n",
       "  var force = true;\n",
       "\n",
       "  if (typeof (window._bokeh_onload_callbacks) === \"undefined\" || force === true) {\n",
       "    window._bokeh_onload_callbacks = [];\n",
       "    window._bokeh_is_loading = undefined;\n",
       "  }\n",
       "\n",
       "\n",
       "  \n",
       "  if (typeof (window._bokeh_timeout) === \"undefined\" || force === true) {\n",
       "    window._bokeh_timeout = Date.now() + 5000;\n",
       "    window._bokeh_failed_load = false;\n",
       "  }\n",
       "\n",
       "  var NB_LOAD_WARNING = {'data': {'text/html':\n",
       "     \"<div style='background-color: #fdd'>\\n\"+\n",
       "     \"<p>\\n\"+\n",
       "     \"BokehJS does not appear to have successfully loaded. If loading BokehJS from CDN, this \\n\"+\n",
       "     \"may be due to a slow or bad network connection. Possible fixes:\\n\"+\n",
       "     \"</p>\\n\"+\n",
       "     \"<ul>\\n\"+\n",
       "     \"<li>re-rerun `output_notebook()` to attempt to load from CDN again, or</li>\\n\"+\n",
       "     \"<li>use INLINE resources instead, as so:</li>\\n\"+\n",
       "     \"</ul>\\n\"+\n",
       "     \"<code>\\n\"+\n",
       "     \"from bokeh.resources import INLINE\\n\"+\n",
       "     \"output_notebook(resources=INLINE)\\n\"+\n",
       "     \"</code>\\n\"+\n",
       "     \"</div>\"}};\n",
       "\n",
       "  function display_loaded() {\n",
       "    if (window.Bokeh !== undefined) {\n",
       "      var el = document.getElementById(\"1d91b5e4-5c78-4256-99c3-a1d627608c89\");\n",
       "      el.textContent = \"BokehJS \" + Bokeh.version + \" successfully loaded.\";\n",
       "    } else if (Date.now() < window._bokeh_timeout) {\n",
       "      setTimeout(display_loaded, 100)\n",
       "    }\n",
       "  }\n",
       "\n",
       "  function run_callbacks() {\n",
       "    try {\n",
       "      window._bokeh_onload_callbacks.forEach(function(callback) { callback() });\n",
       "    }\n",
       "    finally {\n",
       "      delete window._bokeh_onload_callbacks\n",
       "    }\n",
       "    console.info(\"Bokeh: all callbacks have finished\");\n",
       "  }\n",
       "\n",
       "  function load_libs(js_urls, callback) {\n",
       "    window._bokeh_onload_callbacks.push(callback);\n",
       "    if (window._bokeh_is_loading > 0) {\n",
       "      console.log(\"Bokeh: BokehJS is being loaded, scheduling callback at\", now());\n",
       "      return null;\n",
       "    }\n",
       "    if (js_urls == null || js_urls.length === 0) {\n",
       "      run_callbacks();\n",
       "      return null;\n",
       "    }\n",
       "    console.log(\"Bokeh: BokehJS not loaded, scheduling load and callback at\", now());\n",
       "    window._bokeh_is_loading = js_urls.length;\n",
       "    for (var i = 0; i < js_urls.length; i++) {\n",
       "      var url = js_urls[i];\n",
       "      var s = document.createElement('script');\n",
       "      s.src = url;\n",
       "      s.async = false;\n",
       "      s.onreadystatechange = s.onload = function() {\n",
       "        window._bokeh_is_loading--;\n",
       "        if (window._bokeh_is_loading === 0) {\n",
       "          console.log(\"Bokeh: all BokehJS libraries loaded\");\n",
       "          run_callbacks()\n",
       "        }\n",
       "      };\n",
       "      s.onerror = function() {\n",
       "        console.warn(\"failed to load library \" + url);\n",
       "      };\n",
       "      console.log(\"Bokeh: injecting script tag for BokehJS library: \", url);\n",
       "      document.getElementsByTagName(\"head\")[0].appendChild(s);\n",
       "    }\n",
       "  };var element = document.getElementById(\"1d91b5e4-5c78-4256-99c3-a1d627608c89\");\n",
       "  if (element == null) {\n",
       "    console.log(\"Bokeh: ERROR: autoload.js configured with elementid '1d91b5e4-5c78-4256-99c3-a1d627608c89' but no matching script tag was found. \")\n",
       "    return false;\n",
       "  }\n",
       "\n",
       "  var js_urls = [\"https://cdn.pydata.org/bokeh/release/bokeh-0.12.6.min.js\", \"https://cdn.pydata.org/bokeh/release/bokeh-widgets-0.12.6.min.js\"];\n",
       "\n",
       "  var inline_js = [\n",
       "    function(Bokeh) {\n",
       "      Bokeh.set_log_level(\"info\");\n",
       "    },\n",
       "    \n",
       "    function(Bokeh) {\n",
       "      \n",
       "    },\n",
       "    \n",
       "    function(Bokeh) {\n",
       "      \n",
       "      document.getElementById(\"1d91b5e4-5c78-4256-99c3-a1d627608c89\").textContent = \"BokehJS is loading...\";\n",
       "    },\n",
       "    function(Bokeh) {\n",
       "      console.log(\"Bokeh: injecting CSS: https://cdn.pydata.org/bokeh/release/bokeh-0.12.6.min.css\");\n",
       "      Bokeh.embed.inject_css(\"https://cdn.pydata.org/bokeh/release/bokeh-0.12.6.min.css\");\n",
       "      console.log(\"Bokeh: injecting CSS: https://cdn.pydata.org/bokeh/release/bokeh-widgets-0.12.6.min.css\");\n",
       "      Bokeh.embed.inject_css(\"https://cdn.pydata.org/bokeh/release/bokeh-widgets-0.12.6.min.css\");\n",
       "    }\n",
       "  ];\n",
       "\n",
       "  function run_inline_js() {\n",
       "    \n",
       "    if ((window.Bokeh !== undefined) || (force === true)) {\n",
       "      for (var i = 0; i < inline_js.length; i++) {\n",
       "        inline_js[i](window.Bokeh);\n",
       "      }if (force === true) {\n",
       "        display_loaded();\n",
       "      }} else if (Date.now() < window._bokeh_timeout) {\n",
       "      setTimeout(run_inline_js, 100);\n",
       "    } else if (!window._bokeh_failed_load) {\n",
       "      console.log(\"Bokeh: BokehJS failed to load within specified timeout.\");\n",
       "      window._bokeh_failed_load = true;\n",
       "    } else if (force !== true) {\n",
       "      var cell = $(document.getElementById(\"1d91b5e4-5c78-4256-99c3-a1d627608c89\")).parents('.cell').data().cell;\n",
       "      cell.output_area.append_execute_result(NB_LOAD_WARNING)\n",
       "    }\n",
       "\n",
       "  }\n",
       "\n",
       "  if (window._bokeh_is_loading === 0) {\n",
       "    console.log(\"Bokeh: BokehJS loaded, going straight to plotting\");\n",
       "    run_inline_js();\n",
       "  } else {\n",
       "    load_libs(js_urls, function() {\n",
       "      console.log(\"Bokeh: BokehJS plotting callback run at\", now());\n",
       "      run_inline_js();\n",
       "    });\n",
       "  }\n",
       "}(this));"
      ]
     },
     "metadata": {},
     "output_type": "display_data"
    }
   ],
   "source": [
    "output_notebook()"
   ]
  },
  {
   "cell_type": "code",
   "execution_count": 13,
   "metadata": {},
   "outputs": [
    {
     "data": {
      "text/plain": [
       "Index(['sepal width (cm)', 'sepal length (cm)', 'petal width (cm)',\n",
       "       'petal length (cm)'],\n",
       "      dtype='object')"
      ]
     },
     "execution_count": 13,
     "metadata": {},
     "output_type": "execute_result"
    }
   ],
   "source": [
    "features[indices]"
   ]
  },
  {
   "cell_type": "code",
   "execution_count": 14,
   "metadata": {},
   "outputs": [
    {
     "data": {
      "text/html": [
       "\n",
       "\n",
       "    <div class=\"bk-root\">\n",
       "        <div class=\"bk-plotdiv\" id=\"962cf3ed-1024-463d-9bf4-f852ecd389f0\"></div>\n",
       "    </div>\n",
       "<script type=\"text/javascript\">\n",
       "  \n",
       "  (function(global) {\n",
       "    function now() {\n",
       "      return new Date();\n",
       "    }\n",
       "  \n",
       "    var force = false;\n",
       "  \n",
       "    if (typeof (window._bokeh_onload_callbacks) === \"undefined\" || force === true) {\n",
       "      window._bokeh_onload_callbacks = [];\n",
       "      window._bokeh_is_loading = undefined;\n",
       "    }\n",
       "  \n",
       "  \n",
       "    \n",
       "    if (typeof (window._bokeh_timeout) === \"undefined\" || force === true) {\n",
       "      window._bokeh_timeout = Date.now() + 0;\n",
       "      window._bokeh_failed_load = false;\n",
       "    }\n",
       "  \n",
       "    var NB_LOAD_WARNING = {'data': {'text/html':\n",
       "       \"<div style='background-color: #fdd'>\\n\"+\n",
       "       \"<p>\\n\"+\n",
       "       \"BokehJS does not appear to have successfully loaded. If loading BokehJS from CDN, this \\n\"+\n",
       "       \"may be due to a slow or bad network connection. Possible fixes:\\n\"+\n",
       "       \"</p>\\n\"+\n",
       "       \"<ul>\\n\"+\n",
       "       \"<li>re-rerun `output_notebook()` to attempt to load from CDN again, or</li>\\n\"+\n",
       "       \"<li>use INLINE resources instead, as so:</li>\\n\"+\n",
       "       \"</ul>\\n\"+\n",
       "       \"<code>\\n\"+\n",
       "       \"from bokeh.resources import INLINE\\n\"+\n",
       "       \"output_notebook(resources=INLINE)\\n\"+\n",
       "       \"</code>\\n\"+\n",
       "       \"</div>\"}};\n",
       "  \n",
       "    function display_loaded() {\n",
       "      if (window.Bokeh !== undefined) {\n",
       "        var el = document.getElementById(\"962cf3ed-1024-463d-9bf4-f852ecd389f0\");\n",
       "        el.textContent = \"BokehJS \" + Bokeh.version + \" successfully loaded.\";\n",
       "      } else if (Date.now() < window._bokeh_timeout) {\n",
       "        setTimeout(display_loaded, 100)\n",
       "      }\n",
       "    }\n",
       "  \n",
       "    function run_callbacks() {\n",
       "      try {\n",
       "        window._bokeh_onload_callbacks.forEach(function(callback) { callback() });\n",
       "      }\n",
       "      finally {\n",
       "        delete window._bokeh_onload_callbacks\n",
       "      }\n",
       "      console.info(\"Bokeh: all callbacks have finished\");\n",
       "    }\n",
       "  \n",
       "    function load_libs(js_urls, callback) {\n",
       "      window._bokeh_onload_callbacks.push(callback);\n",
       "      if (window._bokeh_is_loading > 0) {\n",
       "        console.log(\"Bokeh: BokehJS is being loaded, scheduling callback at\", now());\n",
       "        return null;\n",
       "      }\n",
       "      if (js_urls == null || js_urls.length === 0) {\n",
       "        run_callbacks();\n",
       "        return null;\n",
       "      }\n",
       "      console.log(\"Bokeh: BokehJS not loaded, scheduling load and callback at\", now());\n",
       "      window._bokeh_is_loading = js_urls.length;\n",
       "      for (var i = 0; i < js_urls.length; i++) {\n",
       "        var url = js_urls[i];\n",
       "        var s = document.createElement('script');\n",
       "        s.src = url;\n",
       "        s.async = false;\n",
       "        s.onreadystatechange = s.onload = function() {\n",
       "          window._bokeh_is_loading--;\n",
       "          if (window._bokeh_is_loading === 0) {\n",
       "            console.log(\"Bokeh: all BokehJS libraries loaded\");\n",
       "            run_callbacks()\n",
       "          }\n",
       "        };\n",
       "        s.onerror = function() {\n",
       "          console.warn(\"failed to load library \" + url);\n",
       "        };\n",
       "        console.log(\"Bokeh: injecting script tag for BokehJS library: \", url);\n",
       "        document.getElementsByTagName(\"head\")[0].appendChild(s);\n",
       "      }\n",
       "    };var element = document.getElementById(\"962cf3ed-1024-463d-9bf4-f852ecd389f0\");\n",
       "    if (element == null) {\n",
       "      console.log(\"Bokeh: ERROR: autoload.js configured with elementid '962cf3ed-1024-463d-9bf4-f852ecd389f0' but no matching script tag was found. \")\n",
       "      return false;\n",
       "    }\n",
       "  \n",
       "    var js_urls = [];\n",
       "  \n",
       "    var inline_js = [\n",
       "      function(Bokeh) {\n",
       "        (function() {\n",
       "          var fn = function() {\n",
       "            var docs_json = {\"afdb7c80-13f5-42a5-a569-7d4c315004b3\":{\"roots\":{\"references\":[{\"attributes\":{},\"id\":\"5da76c5d-5c02-4dcc-80c6-86f718dc9746\",\"type\":\"BasicTickFormatter\"},{\"attributes\":{\"plot\":{\"id\":\"db59f4f2-dbde-4b6f-91e2-19136de33bb5\",\"subtype\":\"Figure\",\"type\":\"Plot\"}},\"id\":\"2165753c-70dc-4709-8899-528ee161ebba\",\"type\":\"SaveTool\"},{\"attributes\":{},\"id\":\"b5bb6701-1cd6-404f-be18-28f212020c23\",\"type\":\"BasicTicker\"},{\"attributes\":{\"plot\":{\"id\":\"db59f4f2-dbde-4b6f-91e2-19136de33bb5\",\"subtype\":\"Figure\",\"type\":\"Plot\"}},\"id\":\"ba6b75ec-1002-4218-bcac-26e36659c7d3\",\"type\":\"ResetTool\"},{\"attributes\":{\"below\":[{\"id\":\"65fb71d2-472a-4dc6-a517-ee95760f36a4\",\"type\":\"LinearAxis\"}],\"left\":[{\"id\":\"efaccedc-d4dc-4ee4-bc87-461b3e7c6683\",\"type\":\"LinearAxis\"}],\"plot_height\":300,\"plot_width\":300,\"renderers\":[{\"id\":\"65fb71d2-472a-4dc6-a517-ee95760f36a4\",\"type\":\"LinearAxis\"},{\"id\":\"2ef51b54-d001-4595-a687-b87606752404\",\"type\":\"Grid\"},{\"id\":\"efaccedc-d4dc-4ee4-bc87-461b3e7c6683\",\"type\":\"LinearAxis\"},{\"id\":\"50560e90-0311-4b8c-9b96-0b1e63d53565\",\"type\":\"Grid\"},{\"id\":\"7c1aa8b0-b885-4854-a905-dfbaa35cdb26\",\"type\":\"BoxAnnotation\"},{\"id\":\"f41198db-da43-4b36-a9ce-190f6a4418c5\",\"type\":\"GlyphRenderer\"}],\"title\":{\"id\":\"dbb5bae3-9071-4195-839e-c004592d0a64\",\"type\":\"Title\"},\"tool_events\":{\"id\":\"35e44634-ce03-46b3-aef5-1680f853b72b\",\"type\":\"ToolEvents\"},\"toolbar\":{\"id\":\"95421169-973f-400d-bbfa-a59a9b0be283\",\"type\":\"Toolbar\"},\"x_range\":{\"id\":\"9877c312-4a17-41ac-b906-1fd1af2fe61a\",\"type\":\"DataRange1d\"},\"x_scale\":{\"id\":\"1b229464-3d62-4636-846a-332f059d4609\",\"type\":\"LinearScale\"},\"y_range\":{\"id\":\"314ce356-c79d-419e-8c31-fe103a2e3333\",\"type\":\"DataRange1d\"},\"y_scale\":{\"id\":\"2b8d8e5f-a542-4727-b281-e9b2537f317e\",\"type\":\"LinearScale\"}},\"id\":\"db59f4f2-dbde-4b6f-91e2-19136de33bb5\",\"subtype\":\"Figure\",\"type\":\"Plot\"},{\"attributes\":{},\"id\":\"2b8d8e5f-a542-4727-b281-e9b2537f317e\",\"type\":\"LinearScale\"},{\"attributes\":{},\"id\":\"9cfb3886-d670-4635-a367-5d50f66d00da\",\"type\":\"BasicTicker\"},{\"attributes\":{\"plot\":null,\"text\":\"\"},\"id\":\"dbb5bae3-9071-4195-839e-c004592d0a64\",\"type\":\"Title\"},{\"attributes\":{\"bottom_units\":\"screen\",\"fill_alpha\":{\"value\":0.5},\"fill_color\":{\"value\":\"lightgrey\"},\"left_units\":\"screen\",\"level\":\"overlay\",\"line_alpha\":{\"value\":1.0},\"line_color\":{\"value\":\"black\"},\"line_dash\":[4,4],\"line_width\":{\"value\":2},\"plot\":null,\"render_mode\":\"css\",\"right_units\":\"screen\",\"top_units\":\"screen\"},\"id\":\"7c1aa8b0-b885-4854-a905-dfbaa35cdb26\",\"type\":\"BoxAnnotation\"},{\"attributes\":{\"data_source\":{\"id\":\"50a7db09-132f-4f6d-b217-c79c02db1cb1\",\"type\":\"ColumnDataSource\"},\"glyph\":{\"id\":\"83aa52c2-0ea2-484f-af4d-42ea27fde70d\",\"type\":\"HBar\"},\"hover_glyph\":null,\"muted_glyph\":null,\"nonselection_glyph\":{\"id\":\"a4f2252c-3826-48b0-a391-f69b833e89cf\",\"type\":\"HBar\"},\"selection_glyph\":null},\"id\":\"f41198db-da43-4b36-a9ce-190f6a4418c5\",\"type\":\"GlyphRenderer\"},{\"attributes\":{\"plot\":{\"id\":\"db59f4f2-dbde-4b6f-91e2-19136de33bb5\",\"subtype\":\"Figure\",\"type\":\"Plot\"}},\"id\":\"20d8a7ca-395c-479b-9f9f-34e276856b89\",\"type\":\"WheelZoomTool\"},{\"attributes\":{\"plot\":{\"id\":\"db59f4f2-dbde-4b6f-91e2-19136de33bb5\",\"subtype\":\"Figure\",\"type\":\"Plot\"}},\"id\":\"6b251314-a293-49eb-a9dd-f7dd08aa04e1\",\"type\":\"HelpTool\"},{\"attributes\":{\"formatter\":{\"id\":\"5da76c5d-5c02-4dcc-80c6-86f718dc9746\",\"type\":\"BasicTickFormatter\"},\"plot\":{\"id\":\"db59f4f2-dbde-4b6f-91e2-19136de33bb5\",\"subtype\":\"Figure\",\"type\":\"Plot\"},\"ticker\":{\"id\":\"9cfb3886-d670-4635-a367-5d50f66d00da\",\"type\":\"BasicTicker\"}},\"id\":\"efaccedc-d4dc-4ee4-bc87-461b3e7c6683\",\"type\":\"LinearAxis\"},{\"attributes\":{\"fill_alpha\":{\"value\":0.1},\"fill_color\":{\"value\":\"#1f77b4\"},\"height\":{\"value\":0.5},\"line_alpha\":{\"value\":0.1},\"line_color\":{\"value\":\"#1f77b4\"},\"right\":{\"field\":\"right\"},\"y\":{\"field\":\"y\"}},\"id\":\"a4f2252c-3826-48b0-a391-f69b833e89cf\",\"type\":\"HBar\"},{\"attributes\":{\"plot\":{\"id\":\"db59f4f2-dbde-4b6f-91e2-19136de33bb5\",\"subtype\":\"Figure\",\"type\":\"Plot\"},\"ticker\":{\"id\":\"b5bb6701-1cd6-404f-be18-28f212020c23\",\"type\":\"BasicTicker\"}},\"id\":\"2ef51b54-d001-4595-a687-b87606752404\",\"type\":\"Grid\"},{\"attributes\":{\"active_drag\":\"auto\",\"active_inspect\":\"auto\",\"active_scroll\":\"auto\",\"active_tap\":\"auto\",\"tools\":[{\"id\":\"e9c46375-4d9a-4cd9-a272-a86cfd0e18e7\",\"type\":\"PanTool\"},{\"id\":\"20d8a7ca-395c-479b-9f9f-34e276856b89\",\"type\":\"WheelZoomTool\"},{\"id\":\"69ed5b33-34cd-485f-95fb-c605d0557255\",\"type\":\"BoxZoomTool\"},{\"id\":\"2165753c-70dc-4709-8899-528ee161ebba\",\"type\":\"SaveTool\"},{\"id\":\"ba6b75ec-1002-4218-bcac-26e36659c7d3\",\"type\":\"ResetTool\"},{\"id\":\"6b251314-a293-49eb-a9dd-f7dd08aa04e1\",\"type\":\"HelpTool\"}]},\"id\":\"95421169-973f-400d-bbfa-a59a9b0be283\",\"type\":\"Toolbar\"},{\"attributes\":{},\"id\":\"33f4e216-0fef-43c1-beba-f1bc5fac67d9\",\"type\":\"BasicTickFormatter\"},{\"attributes\":{},\"id\":\"1b229464-3d62-4636-846a-332f059d4609\",\"type\":\"LinearScale\"},{\"attributes\":{\"dimension\":1,\"plot\":{\"id\":\"db59f4f2-dbde-4b6f-91e2-19136de33bb5\",\"subtype\":\"Figure\",\"type\":\"Plot\"},\"ticker\":{\"id\":\"9cfb3886-d670-4635-a367-5d50f66d00da\",\"type\":\"BasicTicker\"}},\"id\":\"50560e90-0311-4b8c-9b96-0b1e63d53565\",\"type\":\"Grid\"},{\"attributes\":{},\"id\":\"35e44634-ce03-46b3-aef5-1680f853b72b\",\"type\":\"ToolEvents\"},{\"attributes\":{\"fill_color\":{\"value\":\"#CAB2D6\"},\"height\":{\"value\":0.5},\"line_color\":{\"value\":\"#CAB2D6\"},\"right\":{\"field\":\"right\"},\"y\":{\"field\":\"y\"}},\"id\":\"83aa52c2-0ea2-484f-af4d-42ea27fde70d\",\"type\":\"HBar\"},{\"attributes\":{\"callback\":null},\"id\":\"314ce356-c79d-419e-8c31-fe103a2e3333\",\"type\":\"DataRange1d\"},{\"attributes\":{\"formatter\":{\"id\":\"33f4e216-0fef-43c1-beba-f1bc5fac67d9\",\"type\":\"BasicTickFormatter\"},\"plot\":{\"id\":\"db59f4f2-dbde-4b6f-91e2-19136de33bb5\",\"subtype\":\"Figure\",\"type\":\"Plot\"},\"ticker\":{\"id\":\"b5bb6701-1cd6-404f-be18-28f212020c23\",\"type\":\"BasicTicker\"}},\"id\":\"65fb71d2-472a-4dc6-a517-ee95760f36a4\",\"type\":\"LinearAxis\"},{\"attributes\":{\"callback\":null},\"id\":\"9877c312-4a17-41ac-b906-1fd1af2fe61a\",\"type\":\"DataRange1d\"},{\"attributes\":{\"callback\":null,\"column_names\":[\"y\",\"right\"],\"data\":{\"right\":{\"__ndarray__\":\"COU4+mgJlj8SXs6AlTuwP/zchB2Gi9s/Mf2j8v0E3z8=\",\"dtype\":\"float64\",\"shape\":[4]},\"y\":[0,1,2,3]}},\"id\":\"50a7db09-132f-4f6d-b217-c79c02db1cb1\",\"type\":\"ColumnDataSource\"},{\"attributes\":{\"plot\":{\"id\":\"db59f4f2-dbde-4b6f-91e2-19136de33bb5\",\"subtype\":\"Figure\",\"type\":\"Plot\"}},\"id\":\"e9c46375-4d9a-4cd9-a272-a86cfd0e18e7\",\"type\":\"PanTool\"},{\"attributes\":{\"overlay\":{\"id\":\"7c1aa8b0-b885-4854-a905-dfbaa35cdb26\",\"type\":\"BoxAnnotation\"},\"plot\":{\"id\":\"db59f4f2-dbde-4b6f-91e2-19136de33bb5\",\"subtype\":\"Figure\",\"type\":\"Plot\"}},\"id\":\"69ed5b33-34cd-485f-95fb-c605d0557255\",\"type\":\"BoxZoomTool\"}],\"root_ids\":[\"db59f4f2-dbde-4b6f-91e2-19136de33bb5\"]},\"title\":\"Bokeh Application\",\"version\":\"0.12.6\"}};\n",
       "            var render_items = [{\"docid\":\"afdb7c80-13f5-42a5-a569-7d4c315004b3\",\"elementid\":\"962cf3ed-1024-463d-9bf4-f852ecd389f0\",\"modelid\":\"db59f4f2-dbde-4b6f-91e2-19136de33bb5\"}];\n",
       "            \n",
       "            Bokeh.embed.embed_items(docs_json, render_items);\n",
       "          };\n",
       "          if (document.readyState != \"loading\") fn();\n",
       "          else document.addEventListener(\"DOMContentLoaded\", fn);\n",
       "        })();\n",
       "      },\n",
       "      function(Bokeh) {\n",
       "      }\n",
       "    ];\n",
       "  \n",
       "    function run_inline_js() {\n",
       "      \n",
       "      if ((window.Bokeh !== undefined) || (force === true)) {\n",
       "        for (var i = 0; i < inline_js.length; i++) {\n",
       "          inline_js[i](window.Bokeh);\n",
       "        }if (force === true) {\n",
       "          display_loaded();\n",
       "        }} else if (Date.now() < window._bokeh_timeout) {\n",
       "        setTimeout(run_inline_js, 100);\n",
       "      } else if (!window._bokeh_failed_load) {\n",
       "        console.log(\"Bokeh: BokehJS failed to load within specified timeout.\");\n",
       "        window._bokeh_failed_load = true;\n",
       "      } else if (force !== true) {\n",
       "        var cell = $(document.getElementById(\"962cf3ed-1024-463d-9bf4-f852ecd389f0\")).parents('.cell').data().cell;\n",
       "        cell.output_area.append_execute_result(NB_LOAD_WARNING)\n",
       "      }\n",
       "  \n",
       "    }\n",
       "  \n",
       "    if (window._bokeh_is_loading === 0) {\n",
       "      console.log(\"Bokeh: BokehJS loaded, going straight to plotting\");\n",
       "      run_inline_js();\n",
       "    } else {\n",
       "      load_libs(js_urls, function() {\n",
       "        console.log(\"Bokeh: BokehJS plotting callback run at\", now());\n",
       "        run_inline_js();\n",
       "      });\n",
       "    }\n",
       "  }(this));\n",
       "</script>"
      ]
     },
     "metadata": {},
     "output_type": "display_data"
    }
   ],
   "source": [
    "plot = figure(plot_width = 300, plot_height = 300)\n",
    "plot.hbar(y = range(len(indices)), height = 0.5, right=importances[indices], color=\"#CAB2D6\")\n",
    "show(plot)"
   ]
  },
  {
   "cell_type": "markdown",
   "metadata": {},
   "source": [
    "# END OF EXAMPLE 1"
   ]
  },
  {
   "cell_type": "code",
   "execution_count": null,
   "metadata": {
    "collapsed": true
   },
   "outputs": [],
   "source": []
  }
 ],
 "metadata": {
  "kernelspec": {
   "display_name": "Python 3",
   "language": "python",
   "name": "python3"
  },
  "language_info": {
   "codemirror_mode": {
    "name": "ipython",
    "version": 3
   },
   "file_extension": ".py",
   "mimetype": "text/x-python",
   "name": "python",
   "nbconvert_exporter": "python",
   "pygments_lexer": "ipython3",
   "version": "3.6.1"
  }
 },
 "nbformat": 4,
 "nbformat_minor": 2
}
